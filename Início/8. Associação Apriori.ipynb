{
 "cells": [
  {
   "cell_type": "code",
   "execution_count": 1,
   "metadata": {},
   "outputs": [],
   "source": [
    "#1. Importar as bibliotecas necessárias\n",
    "\n",
    "import pandas as pd\n",
    "from mlxtend.preprocessing import TransactionEncoder\n",
    "from mlxtend.frequent_patterns import apriori, association_rules\n"
   ]
  },
  {
   "cell_type": "code",
   "execution_count": 2,
   "metadata": {},
   "outputs": [
    {
     "name": "stdout",
     "output_type": "stream",
     "text": [
      "[['PAINEL', 'BANCOS', 'BOLSA DA PORTA', 'ESTRIBO'], ['BANCOS', 'ALARME', 'BOLSA DA PORTA'], ['PAINEL', 'ALARME', 'ESTRIBO'], ['BANCOS', 'PAINEL', 'ESTRIBO'], ['BOLSA DA PORTA', 'PAINEL', 'ALARME'], ['PAINEL', 'ALARME', 'ESTRIBO', 'BANCOS'], ['BANCOS', 'BOLSA DA PORTA', 'ESTRIBO'], ['PAINEL', 'BANCOS', 'ALARME', 'ESTRIBO'], ['BOLSA DA PORTA', 'ALARME', 'ESTRIBO'], ['PAINEL', 'ALARME', 'BANCOS'], ['BANCOS', 'BOLSA DA PORTA', 'PAINEL'], ['PAINEL', 'ESTRIBO', 'BANCOS'], ['BANCOS', 'ALARME', 'BOLSA DA PORTA', 'ESTRIBO'], ['PAINEL', 'ALARME', 'BANCOS', 'ESTRIBO'], ['BOLSA DA PORTA', 'PAINEL', 'ALARME', 'ESTRIBO'], ['ALARME', 'ESTRIBO', 'BANCOS'], ['BANCOS', 'BOLSA DA PORTA', 'ALARME'], ['PAINEL', 'BANCOS', 'ESTRIBO'], ['BOLSA DA PORTA', 'ALARME', 'PAINEL'], ['PAINEL', 'ALARME', 'BANCOS', 'ESTRIBO']]\n"
     ]
    }
   ],
   "source": [
    "#2. Importar os dados\n",
    "\n",
    "with open(\"Dados_Exercício_8.txt\", \"r\") as f:\n",
    "    transacoes = [line.strip().split(\",\") for line in f.readlines()]\n",
    "\n",
    "print(transacoes)\n"
   ]
  },
  {
   "cell_type": "code",
   "execution_count": 3,
   "metadata": {},
   "outputs": [
    {
     "name": "stdout",
     "output_type": "stream",
     "text": [
      "    ALARME  BANCOS  BOLSA DA PORTA  ESTRIBO  PAINEL\n",
      "0    False    True            True     True    True\n",
      "1     True    True            True    False   False\n",
      "2     True   False           False     True    True\n",
      "3    False    True           False     True    True\n",
      "4     True   False            True    False    True\n",
      "5     True    True           False     True    True\n",
      "6    False    True            True     True   False\n",
      "7     True    True           False     True    True\n",
      "8     True   False            True     True   False\n",
      "9     True    True           False    False    True\n",
      "10   False    True            True    False    True\n",
      "11   False    True           False     True    True\n",
      "12    True    True            True     True   False\n",
      "13    True    True           False     True    True\n",
      "14    True   False            True     True    True\n",
      "15    True    True           False     True   False\n",
      "16    True    True            True    False   False\n",
      "17   False    True           False     True    True\n",
      "18    True   False            True    False    True\n",
      "19    True    True           False     True    True\n"
     ]
    }
   ],
   "source": [
    "#3. Organizar os dados\n",
    "\n",
    "te = TransactionEncoder()\n",
    "te_ary = te.fit(transacoes).transform(transacoes)\n",
    "data_frame = pd.DataFrame(te_ary, columns = te.columns_)\n",
    "print(data_frame)\n"
   ]
  },
  {
   "cell_type": "code",
   "execution_count": 4,
   "metadata": {},
   "outputs": [
    {
     "name": "stdout",
     "output_type": "stream",
     "text": [
      "   support           itemsets\n",
      "0     0.70           (ALARME)\n",
      "1     0.75           (BANCOS)\n",
      "2     0.50   (BOLSA DA PORTA)\n",
      "3     0.70          (ESTRIBO)\n",
      "4     0.70           (PAINEL)\n",
      "5     0.55  (ESTRIBO, BANCOS)\n",
      "6     0.50   (PAINEL, BANCOS)\n",
      "7     0.50  (PAINEL, ESTRIBO)\n"
     ]
    }
   ],
   "source": [
    "#4. Verificar os pedidos frequentes (50%)\n",
    "\n",
    "frequencia = apriori(data_frame, min_support = 0.5, use_colnames = True)\n",
    "print(frequencia)\n"
   ]
  },
  {
   "cell_type": "code",
   "execution_count": 5,
   "metadata": {},
   "outputs": [
    {
     "name": "stdout",
     "output_type": "stream",
     "text": [
      "  antecedents consequents  antecedent support  consequent support  support  \\\n",
      "0   (ESTRIBO)    (BANCOS)                0.70                0.75     0.55   \n",
      "1    (BANCOS)   (ESTRIBO)                0.75                0.70     0.55   \n",
      "2    (PAINEL)    (BANCOS)                0.70                0.75     0.50   \n",
      "3    (BANCOS)    (PAINEL)                0.75                0.70     0.50   \n",
      "4    (PAINEL)   (ESTRIBO)                0.70                0.70     0.50   \n",
      "5   (ESTRIBO)    (PAINEL)                0.70                0.70     0.50   \n",
      "\n",
      "   confidence      lift  leverage  conviction  \n",
      "0    0.785714  1.047619     0.025    1.166667  \n",
      "1    0.733333  1.047619     0.025    1.125000  \n",
      "2    0.714286  0.952381    -0.025    0.875000  \n",
      "3    0.666667  0.952381    -0.025    0.900000  \n",
      "4    0.714286  1.020408     0.010    1.050000  \n",
      "5    0.714286  1.020408     0.010    1.050000  \n"
     ]
    }
   ],
   "source": [
    "#5. Regras para a confiância mínima\n",
    "\n",
    "regras = association_rules(frequencia, metric = \"confidence\", min_threshold = 0.5)\n",
    "print(regras)\n"
   ]
  }
 ],
 "metadata": {
  "kernelspec": {
   "display_name": "Python 3",
   "language": "python",
   "name": "python3"
  },
  "language_info": {
   "codemirror_mode": {
    "name": "ipython",
    "version": 3
   },
   "file_extension": ".py",
   "mimetype": "text/x-python",
   "name": "python",
   "nbconvert_exporter": "python",
   "pygments_lexer": "ipython3",
   "version": "3.12.8"
  }
 },
 "nbformat": 4,
 "nbformat_minor": 2
}
