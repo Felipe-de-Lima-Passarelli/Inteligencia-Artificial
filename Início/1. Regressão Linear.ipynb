{
 "cells": [
  {
   "cell_type": "code",
   "execution_count": 1,
   "metadata": {},
   "outputs": [],
   "source": [
    "#1. Importar as bibliotecas necessárias\n",
    "\n",
    "from numpy import *"
   ]
  },
  {
   "cell_type": "code",
   "execution_count": 2,
   "metadata": {},
   "outputs": [],
   "source": [
    "#2. Criar a classe principal do programa\n",
    "\n",
    "class RegressaoLinear:\n",
    "    def __init__(self, x, y):\n",
    "        self.x = x\n",
    "        self.y = y\n",
    "        self.__coeficiente_de_correlacao = self.__coeficiente_de_correlacao()\n",
    "        self.__inclinacao = self.__inclinacao()\n",
    "        self.__intercepcao = self.__intercepcao()\n",
    "\n",
    "    def __coeficiente_de_correlacao(self):\n",
    "        covariacao = cov(self.x, self.y, bias = True)[0][1]\n",
    "        variancia_x = var(self.x)\n",
    "        variancia_y = var(self.y)\n",
    "        return covariacao / sqrt(variancia_x * variancia_y)\n",
    "\n",
    "    def __inclinacao(self):\n",
    "        desvio_padrao_x = std(self.x)\n",
    "        desvio_padrao_y = std(self.y)\n",
    "        return self.__coeficiente_de_correlacao * (desvio_padrao_y / desvio_padrao_x)\n",
    "\n",
    "    def __intercepcao(self):\n",
    "        media_x = mean(self.x)\n",
    "        media_y = mean(self.y)\n",
    "        return media_y - (media_x * self.__inclinacao)\n",
    "\n",
    "    def previsao(self, valor):\n",
    "        return (self.__intercepcao + (self.__inclinacao * valor))"
   ]
  },
  {
   "cell_type": "code",
   "execution_count": 3,
   "metadata": {},
   "outputs": [
    {
     "name": "stdout",
     "output_type": "stream",
     "text": [
      "12.0\n"
     ]
    }
   ],
   "source": [
    "#3. Testar o programa\n",
    "\n",
    "x = array([1, 2, 3, 4, 5])\n",
    "y = array([2, 4, 6 ,8, 10])\n",
    "\n",
    "teste = RegressaoLinear(x, y)\n",
    "previsao = teste.previsao(6)\n",
    "print(previsao)"
   ]
  }
 ],
 "metadata": {
  "kernelspec": {
   "display_name": "Python 3",
   "language": "python",
   "name": "python3"
  },
  "language_info": {
   "codemirror_mode": {
    "name": "ipython",
    "version": 3
   },
   "file_extension": ".py",
   "mimetype": "text/x-python",
   "name": "python",
   "nbconvert_exporter": "python",
   "pygments_lexer": "ipython3",
   "version": "3.12.7"
  }
 },
 "nbformat": 4,
 "nbformat_minor": 2
}
